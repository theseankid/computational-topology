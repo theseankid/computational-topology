{
 "cells": [
  {
   "cell_type": "code",
   "execution_count": null,
   "metadata": {},
   "outputs": [],
   "source": [
    "import numpy as np\n",
    "import sympy as sym\n",
    "import pandas as pd\n",
    "import tadasets\n",
    "from ripser import ripser\n",
    "from persim import plot_diagrams\n",
    "import matplotlib.pyplot as plt\n",
    "import numpy as np\n",
    "import datetime\n",
    "import os\n",
    "os.chdir('..')\n",
    "# sys.path.insert(0,r'/Users/seanippolito/repos/theseankid/computational-topology/distances')\n",
    "from distances import ellipsoid_distances, standard_distances"
   ]
  },
  {
   "cell_type": "code",
   "execution_count": null,
   "metadata": {},
   "outputs": [],
   "source": [
    "x = sym.Symbol('x')\n",
    "y = sym.Symbol('y')\n",
    "f = x**2 + y**2 - 1\n",
    "variables = [x,y]"
   ]
  },
  {
   "cell_type": "code",
   "execution_count": null,
   "metadata": {},
   "outputs": [],
   "source": []
  },
  {
   "cell_type": "code",
   "execution_count": null,
   "metadata": {},
   "outputs": [],
   "source": [
    "from ripser import ripser\n",
    "from persim import plot_diagrams\n",
    "import matplotlib.pyplot as plt\n",
    "import numpy as np\n",
    "from sklearn import datasets"
   ]
  },
  {
   "cell_type": "code",
   "execution_count": null,
   "metadata": {},
   "outputs": [],
   "source": [
    "fig, ax = plt.subplots(figsize=(6,6))\n",
    "seed=5\n",
    "np.random.seed(seed)\n",
    "data=tadasets.dsphere(n=200, d=1)\n",
    "sigma = 0.2\n",
    "\n",
    "plt.scatter(x=data[:,0], y=data[:,1], s=3, alpha=0.5)\n",
    "plt.title('$S^1$')\n",
    "fig.savefig('images/circle_200pts.png')\n",
    "plt.show()"
   ]
  },
  {
   "cell_type": "code",
   "execution_count": null,
   "metadata": {},
   "outputs": [],
   "source": [
    "times = []\n",
    "times.append({'dists':'initial', 'time':datetime.datetime.now()})\n",
    "ED = standard_distances.euclidean_distance_matrix(data, normalize = True)\n",
    "times.append({'dists':'ED', 'time':datetime.datetime.now()})\n",
    "print(times[-1]['time'] - times[-2]['time'])\n",
    "\n",
    "JD = ellipsoid_distances.jacobian_ellipsoid_distances(data, f, variables, sigma=0.1)\n",
    "times.append({'dists':'JD', 'time':datetime.datetime.now()})\n",
    "print(times[-1]['time'] - times[-2]['time'])\n",
    "\n",
    "SD = ellipsoid_distances.svd_ellipsoid_distances(data, sigma=0.1)\n",
    "times.append({'dists':'SD', 'time':datetime.datetime.now()})\n",
    "print(times[-1]['time'] - times[-2]['time'])\n",
    "\n",
    "ND = standard_distances.neighbors_distances(data)\n",
    "times.append({'dists':'ND', 'time':datetime.datetime.now()})\n",
    "print(times[-1]['time'] - times[-2]['time'])"
   ]
  },
  {
   "cell_type": "markdown",
   "metadata": {},
   "source": [
    "## Diagrams for points sampled Exactly on a Circle"
   ]
  },
  {
   "cell_type": "code",
   "execution_count": null,
   "metadata": {},
   "outputs": [],
   "source": [
    "fig, ax = plt.subplots(figsize=(12,12))\n",
    "dgms_ED = ripser(ED, distance_matrix=True, maxdim=1)['dgms']\n",
    "plot_diagrams(dgms_ED, ax=plt.subplot(221), title='Euclidean Metric')\n",
    "\n",
    "dgms_ND = ripser(ND, distance_matrix=True, maxdim=1)['dgms']\n",
    "plot_diagrams(dgms_ND, ax=plt.subplot(222), title='NN Metric')\n",
    "\n",
    "dgms_JD = ripser(JD, distance_matrix=True, maxdim=1)['dgms']\n",
    "plot_diagrams(dgms_JD, ax=plt.subplot(223), title='Jacobian Ellipsoid Metric')\n",
    "\n",
    "dgms_SD = ripser(SD, distance_matrix=True, maxdim=1)['dgms']\n",
    "plot_diagrams(dgms_SD, ax=plt.subplot(224), title='SVD Ellipsoid Metric')\n",
    "\n",
    "fig.savefig('images/diagrams_circle_200pts.png')"
   ]
  },
  {
   "cell_type": "markdown",
   "metadata": {},
   "source": [
    "## Diagrams for points sampled on a Circle with noise $= 0.2$"
   ]
  },
  {
   "cell_type": "code",
   "execution_count": null,
   "metadata": {},
   "outputs": [],
   "source": [
    "seed=5\n",
    "fig, ax = plt.subplots(figsize=(6,6))\n",
    "data=tadasets.dsphere(n=200, d=1, noise = 0.2)\n",
    "sigma = 0.2\n",
    "plt.scatter(x=data[:,0], y=data[:,1], s=3, alpha=0.5)\n",
    "plt.title('$S^1$ with noise $=0.2$')\n",
    "fig.savefig('images/circle_200pts_noise.png')\n",
    "plt.show()"
   ]
  },
  {
   "cell_type": "code",
   "execution_count": null,
   "metadata": {},
   "outputs": [],
   "source": [
    "\n",
    "times = []\n",
    "times.append({'dists':'initial', 'time':datetime.datetime.now()})\n",
    "ED = ellipsoid_distances.euclidean_distance_matrix(data, normalize = True)\n",
    "times.append({'dists':'ED', 'time':datetime.datetime.now()})\n",
    "print(times[-1]['time'] - times[-2]['time'])\n",
    "\n",
    "JD = ellipsoid_distances.jacobian_ellipsoid_distances(data, f, variables, sigma=0.1)\n",
    "times.append({'dists':'JD', 'time':datetime.datetime.now()})\n",
    "print(times[-1]['time'] - times[-2]['time'])\n",
    "\n",
    "SD = ellipsoid_distances.svd_ellipsoid_distances(data, sigma=0.1)\n",
    "times.append({'dists':'SD', 'time':datetime.datetime.now()})\n",
    "print(times[-1]['time'] - times[-2]['time'])\n",
    "\n",
    "ND = ellipsoid_distances.neighbors_distances(data)\n",
    "times.append({'dists':'ND', 'time':datetime.datetime.now()})\n",
    "print(times[-1]['time'] - times[-2]['time'])"
   ]
  },
  {
   "cell_type": "code",
   "execution_count": null,
   "metadata": {},
   "outputs": [],
   "source": [
    "fig, ax = plt.subplots(figsize=(12,12))\n",
    "dgms_ED = ripser(ED, distance_matrix=True, maxdim=1)['dgms']\n",
    "plot_diagrams(dgms_ED, ax=plt.subplot(221), title='Euclidean Metric')\n",
    "\n",
    "dgms_ND = ripser(ND, distance_matrix=True, maxdim=1)['dgms']\n",
    "plot_diagrams(dgms_ND, ax=plt.subplot(222), title='NN Metric')\n",
    "\n",
    "dgms_JD = ripser(JD, distance_matrix=True, maxdim=1)['dgms']\n",
    "plot_diagrams(dgms_JD, ax=plt.subplot(223), title='Jacobian Ellipsoid Metric')\n",
    "\n",
    "dgms_SD = ripser(SD, distance_matrix=True, maxdim=1)['dgms']\n",
    "plot_diagrams(dgms_SD, ax=plt.subplot(224), title='SVD Ellipsoid Metric')\n",
    "\n",
    "fig.savefig('images/diagrams_circle_200pts_noise.png')"
   ]
  },
  {
   "cell_type": "markdown",
   "metadata": {},
   "source": [
    "## Diagrams for points of a figure 8"
   ]
  },
  {
   "cell_type": "code",
   "execution_count": null,
   "metadata": {},
   "outputs": [],
   "source": [
    "np.random.seed(5)\n",
    "fig, ax = plt.subplots(figsize=(6,6))\n",
    "infty = tadasets.infty_sign(n=200)\n",
    "plt.scatter(infty[:,0], infty[:,1])\n",
    "# dgms_infty = ripser(infty)['dgms']\n",
    "# plot_diagrams(dgms_infty, ax=plt.subplot(121), title='500 pts')\n",
    "\n",
    "infty = tadasets.infty_sign(n=200, noise = .1)\n",
    "plt.scatter(infty[:,0], infty[:,1])\n",
    "# dgms_infty = ripser(infty)['dgms']\n",
    "# plot_diagrams(dgms_infty, ax=plt.subplot(122), title='500 pts')"
   ]
  },
  {
   "cell_type": "code",
   "execution_count": null,
   "metadata": {},
   "outputs": [],
   "source": [
    "np.random.seed(5)\n",
    "\n",
    "fig, ax = plt.subplots(nrows = 1, ncols = 2, figsize=(12,6))\n",
    "infty = tadasets.infty_sign(n=50)\n",
    "# ax[0] = plt.scatter(infty[:,0], infty[:,1])\n",
    "dgms_infty = ripser(infty)['dgms']\n",
    "plot_diagrams(dgms_infty, ax=plt.subplot(121), title='50 pts')\n",
    "\n",
    "infty = tadasets.infty_sign(n=50, noise = .1)\n",
    "# ax[1] = plt.scatter(infty[:,0], infty[:,1])\n",
    "dgms_infty = ripser(infty)['dgms']\n",
    "plot_diagrams(dgms_infty, ax=plt.subplot(122), title='50 pts with noise')"
   ]
  },
  {
   "cell_type": "code",
   "execution_count": null,
   "metadata": {},
   "outputs": [],
   "source": [
    "np.random.seed(5)\n",
    "fig, ax = plt.subplots(nrows = 1, ncols = 2, figsize=(12,6))\n",
    "infty = tadasets.infty_sign(n=200)\n",
    "# ax[0] = plt.scatter(infty[:,0], infty[:,1])\n",
    "dgms_infty = ripser(infty)['dgms']\n",
    "plot_diagrams(dgms_infty, ax=plt.subplot(121), title='200 pts')\n",
    "\n",
    "infty = tadasets.infty_sign(n=200, noise = .1)\n",
    "# ax[1] = plt.scatter(infty[:,0], infty[:,1])\n",
    "dgms_infty = ripser(infty)['dgms']\n",
    "plot_diagrams(dgms_infty, ax=plt.subplot(122), title='200 pts with noise')"
   ]
  },
  {
   "cell_type": "code",
   "execution_count": null,
   "metadata": {},
   "outputs": [],
   "source": []
  },
  {
   "cell_type": "markdown",
   "metadata": {},
   "source": [
    "# Diagrams for points sampled exactly on a Torus"
   ]
  },
  {
   "cell_type": "code",
   "execution_count": null,
   "metadata": {},
   "outputs": [],
   "source": []
  },
  {
   "cell_type": "markdown",
   "metadata": {},
   "source": [
    "## Torus: 200 points"
   ]
  },
  {
   "cell_type": "code",
   "execution_count": null,
   "metadata": {},
   "outputs": [],
   "source": [
    "\n",
    "seed=5\n",
    "R=2\n",
    "r=1\n",
    "np.random.seed(seed)\n",
    "T = tadasets.torus(n=200, c = R, a = r, noise = 0.0)\n",
    "\n",
    "sigma = 0.1\n",
    "x = sym.Symbol('x')\n",
    "y = sym.Symbol('y')\n",
    "z = sym.Symbol('z')\n",
    "\n",
    "f = ((x**2+y**2)**(0.5) - R)**2 + z**2 - r**2\n",
    "\n",
    "variables = [x,y,z]\n",
    "\n",
    "times = []\n",
    "times.append({'dists':'initial', 'time':datetime.datetime.now()})\n",
    "ED = ellipsoid_distances.euclidean_distance_matrix(T, normalize = True)\n",
    "times.append({'dists':'ED', 'time':datetime.datetime.now()})\n",
    "print(times[-1]['time'] - times[-2]['time'])\n",
    "\n",
    "JD = ellipsoid_distances.jacobian_ellipsoid_distances(T, f, variables, sigma=0.1)\n",
    "times.append({'dists':'JD', 'time':datetime.datetime.now()})\n",
    "print(times[-1]['time'] - times[-2]['time'])\n",
    "\n",
    "SD = ellipsoid_distances.svd_ellipsoid_distances(T, sigma=0.1)\n",
    "times.append({'dists':'SD', 'time':datetime.datetime.now()})\n",
    "print(times[-1]['time'] - times[-2]['time'])\n",
    "\n",
    "ND = ellipsoid_distances.neighbors_distances(T)\n",
    "times.append({'dists':'ND', 'time':datetime.datetime.now()})\n",
    "print(times[-1]['time'] - times[-2]['time'])\n"
   ]
  },
  {
   "cell_type": "code",
   "execution_count": null,
   "metadata": {},
   "outputs": [],
   "source": [
    "# %matplotlib"
   ]
  },
  {
   "cell_type": "code",
   "execution_count": null,
   "metadata": {},
   "outputs": [],
   "source": [
    "fig = plt.figure(figsize=(9,9))\n",
    "\n",
    "#===============\n",
    "# First subplot\n",
    "# Sample 1: x,z view\n",
    "#===============\n",
    "ax = fig.add_subplot( projection='3d')\n",
    "ax.scatter3D(xs=T[:,0], ys=T[:,1], zs=T[:,2])\n",
    "# ax.plot3D(xs=x_ols1, ys=x_ols1, zs=y_ols1[:,0], c = 'orange')\n",
    "# ax.view_init(0, 90)\n",
    "ax.set_xlabel('$X$')\n",
    "ax.set_ylabel('$Y$')\n",
    "ax.set_zlabel('$Z$')\n",
    "# ax.set_xlim(-5,5)\n",
    "# ax.set_ylim(-5,5)\n",
    "# ax.set_zlim(-5,5)\n",
    "\n",
    "ax.set_xlim(-3,3)\n",
    "ax.set_ylim(-3,3)\n",
    "ax.set_zlim(-3,3)\n",
    "\n",
    "ax.set_title(\"Torus\")\n",
    "fig.savefig('images/plot_torus_200pts.png')\n",
    "plt.show()\n",
    "\n"
   ]
  },
  {
   "cell_type": "code",
   "execution_count": null,
   "metadata": {},
   "outputs": [],
   "source": [
    "fig, ax = plt.subplots(figsize=(12,12))\n",
    "dgms_ED = ripser(ED, distance_matrix=True, coeff = 2, maxdim=2)['dgms']\n",
    "plot_diagrams(dgms_ED, ax=plt.subplot(221), title='Euclidean Metric')\n",
    "\n",
    "dgms_ND = ripser(ND, distance_matrix=True,coeff = 2,maxdim=2)['dgms']\n",
    "plot_diagrams(dgms_ND, ax=plt.subplot(222), title='NN Metric')\n",
    "\n",
    "dgms_JD = ripser(JD, distance_matrix=True,coeff = 2, maxdim=2)['dgms']\n",
    "plot_diagrams(dgms_JD, ax=plt.subplot(223), title='Jacobian Ellipsoid Metric')\n",
    "\n",
    "dgms_SD = ripser(SD, distance_matrix=True,coeff = 2, maxdim=2)['dgms']\n",
    "plot_diagrams(dgms_SD, ax=plt.subplot(224), title='SVD Ellipsoid Metric')\n",
    "fig.savefig('images/diagrams_torus_200pts.png')"
   ]
  },
  {
   "cell_type": "code",
   "execution_count": null,
   "metadata": {},
   "outputs": [],
   "source": [
    "# # plotting diagrams calculated over prime fields other than the default Z/2Z\n",
    "\n",
    "\n",
    "# fig, ax = plt.subplots(figsize=(12,12))\n",
    "# dgms_ED = ripser(ED, distance_matrix=True, coeff = 2, maxdim=2)['dgms']\n",
    "# plot_diagrams(dgms_ED,ax=plt.subplot(221), title='Euclidean Metric Z/2Z')\n",
    "\n",
    "# dgms_ED = ripser(ED, distance_matrix=True, coeff = 3, maxdim=2)['dgms']\n",
    "# plot_diagrams(dgms_ED,ax=plt.subplot(222), title='Euclidean Metric Z/3Z')\n",
    "\n",
    "# dgms_ED = ripser(ED, distance_matrix=True, coeff = 5, maxdim=2)['dgms']\n",
    "# plot_diagrams(dgms_ED,ax=plt.subplot(223), title='Euclidean Metric Z/5Z')\n",
    "\n",
    "# dgms_ED = ripser(ED, distance_matrix=True, coeff = 7, maxdim=2)['dgms']\n",
    "# plot_diagrams(dgms_ED,ax=plt.subplot(224), title='Euclidean Metric Z/7Z')"
   ]
  },
  {
   "cell_type": "code",
   "execution_count": null,
   "metadata": {},
   "outputs": [],
   "source": []
  },
  {
   "cell_type": "markdown",
   "metadata": {},
   "source": [
    "## Torus: 500 points"
   ]
  },
  {
   "cell_type": "code",
   "execution_count": null,
   "metadata": {},
   "outputs": [],
   "source": [
    "\n",
    "seed=5\n",
    "R=2\n",
    "r=1\n",
    "np.random.seed(seed)\n",
    "T = tadasets.torus(n=500, c = R, a = r, noise = 0.0)\n",
    "\n",
    "sigma = 0.1\n",
    "x = sym.Symbol('x')\n",
    "y = sym.Symbol('y')\n",
    "z = sym.Symbol('z')\n",
    "\n",
    "f = ((x**2+y**2)**(0.5) - R)**2 + z**2 - r**2\n",
    "\n",
    "variables = [x,y,z]\n",
    "\n",
    "times = []\n",
    "times.append({'dists':'initial', 'time':datetime.datetime.now()})\n",
    "ED = ellipsoid_distances.euclidean_distance_matrix(T, normalize = True)\n",
    "times.append({'dists':'ED', 'time':datetime.datetime.now()})\n",
    "print(times[-1]['time'] - times[-2]['time'])\n",
    "\n",
    "JD = ellipsoid_distances.jacobian_ellipsoid_distances(T, f, variables, sigma=0.1)\n",
    "times.append({'dists':'JD', 'time':datetime.datetime.now()})\n",
    "print(times[-1]['time'] - times[-2]['time'])\n",
    "\n",
    "SD = ellipsoid_distances.svd_ellipsoid_distances(T, sigma=0.1)\n",
    "times.append({'dists':'SD', 'time':datetime.datetime.now()})\n",
    "print(times[-1]['time'] - times[-2]['time'])\n",
    "\n",
    "ND = ellipsoid_distances.neighbors_distances(T)\n",
    "times.append({'dists':'ND', 'time':datetime.datetime.now()})\n",
    "print(times[-1]['time'] - times[-2]['time'])\n"
   ]
  },
  {
   "cell_type": "code",
   "execution_count": null,
   "metadata": {},
   "outputs": [],
   "source": [
    "# %matplotlib"
   ]
  },
  {
   "cell_type": "code",
   "execution_count": null,
   "metadata": {},
   "outputs": [],
   "source": [
    "fig = plt.figure(figsize=(9,9))\n",
    "\n",
    "#===============\n",
    "# First subplot\n",
    "# Sample 1: x,z view\n",
    "#===============\n",
    "ax = fig.add_subplot( projection='3d')\n",
    "ax.scatter3D(xs=T[:,0], ys=T[:,1], zs=T[:,2])\n",
    "# ax.plot3D(xs=x_ols1, ys=x_ols1, zs=y_ols1[:,0], c = 'orange')\n",
    "# ax.view_init(0, 90)\n",
    "ax.set_xlabel('$X$')\n",
    "ax.set_ylabel('$Y$')\n",
    "ax.set_zlabel('$Z$')\n",
    "# ax.set_xlim(-5,5)\n",
    "# ax.set_ylim(-5,5)\n",
    "# ax.set_zlim(-5,5)\n",
    "\n",
    "ax.set_xlim(-3,3)\n",
    "ax.set_ylim(-3,3)\n",
    "ax.set_zlim(-3,3)\n",
    "\n",
    "ax.set_title(\"Torus\")\n",
    "fig.savefig('images/plot_torus_500pts.png')\n",
    "plt.show()"
   ]
  },
  {
   "cell_type": "code",
   "execution_count": null,
   "metadata": {},
   "outputs": [],
   "source": [
    "fig, ax = plt.subplots(figsize=(12,12))\n",
    "dgms_ED = ripser(ED, distance_matrix=True, coeff = 2, maxdim=2)['dgms']\n",
    "plot_diagrams(dgms_ED, ax=plt.subplot(221), title='Euclidean Metric')\n",
    "\n",
    "dgms_ND = ripser(ND, distance_matrix=True, coeff = 2,maxdim=2)['dgms']\n",
    "plot_diagrams(dgms_ND, ax=plt.subplot(222), title='NN Metric')\n",
    "\n",
    "dgms_JD = ripser(JD, distance_matrix=True, coeff = 2, maxdim=2)['dgms']\n",
    "plot_diagrams(dgms_JD, ax=plt.subplot(223), title='Jacobian Ellipsoid Metric')\n",
    "\n",
    "dgms_SD = ripser(SD, distance_matrix=True, coeff = 2, maxdim=2)['dgms']\n",
    "plot_diagrams(dgms_SD, ax=plt.subplot(224), title='SVD Ellipsoid Metric')\n",
    "fig.savefig('images/diagrams_torus_500pts.png')"
   ]
  },
  {
   "cell_type": "markdown",
   "metadata": {},
   "source": [
    "## Diagrams for points sampled on a Torus with noise $= 0.1$"
   ]
  },
  {
   "cell_type": "code",
   "execution_count": null,
   "metadata": {},
   "outputs": [],
   "source": [
    "seed=5\n",
    "np.random.seed(seed)\n",
    "sigma = 0.1\n",
    "\n",
    "\n",
    "R=2\n",
    "r=1\n",
    "T = tadasets.torus(n=500, c = R, a = r, noise = 0.1)\n",
    "\n",
    "\n",
    "fig = plt.figure(figsize=(9,9))\n",
    "\n",
    "#===============\n",
    "# First subplot\n",
    "# Sample 1: x,z view\n",
    "#===============\n",
    "ax = fig.add_subplot( projection='3d')\n",
    "ax.scatter3D(xs=T[:,0], ys=T[:,1], zs=T[:,2])\n",
    "# ax.plot3D(xs=x_ols1, ys=x_ols1, zs=y_ols1[:,0], c = 'orange')\n",
    "# ax.view_init(0, 90)\n",
    "ax.set_xlabel('$X$')\n",
    "ax.set_ylabel('$Y$')\n",
    "ax.set_zlabel('$Z$')\n",
    "ax.set_xlim(-3,3)\n",
    "ax.set_ylim(-3,3)\n",
    "ax.set_zlim(-3,3)\n",
    "\n",
    "ax.set_title(\"Torus\")\n",
    "fig.savefig('images/plot_torus_500pts_noise.png')\n",
    "plt.show()"
   ]
  },
  {
   "cell_type": "code",
   "execution_count": null,
   "metadata": {
    "scrolled": false
   },
   "outputs": [],
   "source": [
    "times = []\n",
    "times.append({'dists':'initial', 'time':datetime.datetime.now()})\n",
    "ED = ellipsoid_distances.euclidean_distance_matrix(T, normalize = True)\n",
    "times.append({'dists':'ED', 'time':datetime.datetime.now()})\n",
    "print(times[-1]['time'] - times[-2]['time'])\n",
    "\n",
    "JD = ellipsoid_distances.jacobian_ellipsoid_distances(T, f, variables, sigma=0.1)\n",
    "times.append({'dists':'JD', 'time':datetime.datetime.now()})\n",
    "print(times[-1]['time'] - times[-2]['time'])\n",
    "\n",
    "SD = ellipsoid_distances.svd_ellipsoid_distances(T, sigma=0.1)\n",
    "times.append({'dists':'SD', 'time':datetime.datetime.now()})\n",
    "print(times[-1]['time'] - times[-2]['time'])\n",
    "\n",
    "ND = ellipsoid_distances.neighbors_distances(T)\n",
    "times.append({'dists':'ND', 'time':datetime.datetime.now()})\n",
    "print(times[-1]['time'] - times[-2]['time'])\n",
    "\n",
    "\n",
    "\n",
    "\n",
    "fig, ax = plt.subplots(figsize=(12,12))\n",
    "dgms_ED = ripser(ED, distance_matrix=True, maxdim=2)['dgms']\n",
    "plot_diagrams(dgms_ED, ax=plt.subplot(221), title='Euclidean Metric')\n",
    "\n",
    "dgms_ND = ripser(ND, distance_matrix=True, maxdim=2)['dgms']\n",
    "plot_diagrams(dgms_ND, ax=plt.subplot(222), title='NN Metric')\n",
    "\n",
    "dgms_JD = ripser(JD, distance_matrix=True, maxdim=2)['dgms']\n",
    "plot_diagrams(dgms_JD, ax=plt.subplot(223), title='Jacobian Ellipsoid Metric')\n",
    "\n",
    "dgms_SD = ripser(SD, distance_matrix=True, maxdim=2)['dgms']\n",
    "plot_diagrams(dgms_SD, ax=plt.subplot(224), title='SVD Ellipsoid Metric')\n",
    "fig.savefig('images/diagrams_torus_500pts_noise.png')"
   ]
  },
  {
   "cell_type": "code",
   "execution_count": null,
   "metadata": {},
   "outputs": [],
   "source": []
  },
  {
   "cell_type": "code",
   "execution_count": null,
   "metadata": {},
   "outputs": [],
   "source": []
  },
  {
   "cell_type": "markdown",
   "metadata": {},
   "source": [
    "## Diagrams for points sampled on a Torus with noise $= 0.1$"
   ]
  },
  {
   "cell_type": "code",
   "execution_count": null,
   "metadata": {},
   "outputs": [],
   "source": [
    "seed=5\n",
    "np.random.seed(seed)\n",
    "sigma = 0.1\n",
    "\n",
    "\n",
    "R=2\n",
    "r=1\n",
    "T = tadasets.torus(n=1000, c = R, a = r, noise = 0.1)\n",
    "\n",
    "\n",
    "fig = plt.figure(figsize=(9,9))\n",
    "\n",
    "#===============\n",
    "# First subplot\n",
    "# Sample 1: x,z view\n",
    "#===============\n",
    "ax = fig.add_subplot( projection='3d')\n",
    "ax.scatter3D(xs=T[:,0], ys=T[:,1], zs=T[:,2])\n",
    "# ax.plot3D(xs=x_ols1, ys=x_ols1, zs=y_ols1[:,0], c = 'orange')\n",
    "# ax.view_init(0, 90)\n",
    "ax.set_xlabel('$X$')\n",
    "ax.set_ylabel('$Y$')\n",
    "ax.set_zlabel('$Z$')\n",
    "ax.set_xlim(-3,3)\n",
    "ax.set_ylim(-3,3)\n",
    "ax.set_zlim(-3,3)\n",
    "\n",
    "ax.set_title(\"Torus\")\n",
    "fig.savefig('images/plot_torus_1000pts_noise.png')\n",
    "plt.show()"
   ]
  },
  {
   "cell_type": "code",
   "execution_count": null,
   "metadata": {
    "scrolled": false
   },
   "outputs": [],
   "source": [
    "ED = ellipsoid_distances.euclidean_distance_matrix(T, normalize = True)\n",
    "print('euclidean_distance_matrix done')\n",
    "\n",
    "JD = ellipsoid_distances.jacobian_ellipsoid_distances(T, f, variables, sigma=0.1)\n",
    "print('jacobian_ellipsoid_distances done')\n",
    "\n",
    "SD = ellipsoid_distances.svd_ellipsoid_distances(T, sigma=0.1)\n",
    "print('svd_ellipsoid_distances done')\n",
    "\n",
    "ND = ellipsoid_distances.neighbors_distances(T)\n",
    "print('neighbors_distances done')\n",
    "\n",
    "fig, ax = plt.subplots(figsize=(12,12))\n",
    "dgms_ED = ripser(ED, distance_matrix=True, maxdim=2)['dgms']\n",
    "plot_diagrams(dgms_ED, ax=plt.subplot(221), title='Euclidean Metric')\n",
    "\n",
    "dgms_ND = ripser(ND, distance_matrix=True, maxdim=2)['dgms']\n",
    "plot_diagrams(dgms_ND, ax=plt.subplot(222), title='NN Metric')\n",
    "\n",
    "dgms_JD = ripser(JD, distance_matrix=True, maxdim=2)['dgms']\n",
    "plot_diagrams(dgms_JD, ax=plt.subplot(223), title='Jacobian Ellipsoid Metric')\n",
    "\n",
    "dgms_SD = ripser(SD, distance_matrix=True, maxdim=2)['dgms']\n",
    "plot_diagrams(dgms_SD, ax=plt.subplot(224), title='SVD Ellipsoid Metric')"
   ]
  },
  {
   "cell_type": "code",
   "execution_count": null,
   "metadata": {},
   "outputs": [],
   "source": [
    "fig.savefig('images/diagrams_torus_1000pts_noise.png')"
   ]
  },
  {
   "cell_type": "code",
   "execution_count": null,
   "metadata": {},
   "outputs": [],
   "source": []
  }
 ],
 "metadata": {
  "kernelspec": {
   "display_name": "Python 3",
   "language": "python",
   "name": "python3"
  },
  "language_info": {
   "codemirror_mode": {
    "name": "ipython",
    "version": 3
   },
   "file_extension": ".py",
   "mimetype": "text/x-python",
   "name": "python",
   "nbconvert_exporter": "python",
   "pygments_lexer": "ipython3",
   "version": "3.8.5"
  }
 },
 "nbformat": 4,
 "nbformat_minor": 4
}
