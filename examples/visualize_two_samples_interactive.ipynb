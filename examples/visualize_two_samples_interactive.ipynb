{
 "cells": [
  {
   "cell_type": "code",
   "execution_count": null,
   "metadata": {},
   "outputs": [],
   "source": [
    "import numpy as np\n",
    "import tadasets\n",
    "import plotly\n",
    "import plotly.graph_objects as go\n",
    "from plotly.subplots import make_subplots\n",
    "from sklearn.linear_model import LinearRegression"
   ]
  },
  {
   "cell_type": "code",
   "execution_count": null,
   "metadata": {},
   "outputs": [],
   "source": [
    "data = np.random.randn(300, 3)\n",
    "sigma = np.array([[2,0,0], [0,2,0], [0,0,1]])\n",
    "R = [[np.cos(np.pi/4), 0, -np.sin(np.pi/4)], [0,1,0], [np.sin(np.pi/4), 0, np.cos(np.pi/4)]]"
   ]
  },
  {
   "cell_type": "code",
   "execution_count": null,
   "metadata": {},
   "outputs": [],
   "source": [
    "sample1 = data@sigma@R"
   ]
  },
  {
   "cell_type": "code",
   "execution_count": null,
   "metadata": {
    "scrolled": true
   },
   "outputs": [],
   "source": [
    "sample2 = tadasets.torus(n=300, c = 4, noise = 0.3)@R"
   ]
  },
  {
   "cell_type": "code",
   "execution_count": null,
   "metadata": {
    "scrolled": false
   },
   "outputs": [],
   "source": [
    "fig = make_subplots(rows=1, cols=2, specs=[[{\"type\": \"scatter3d\"},{\"type\": \"scatter3d\"}]])\n",
    "\n",
    "fig.add_trace(\n",
    "    go.Scatter3d(x=sample1[:,0], y=sample1[:,1], z=sample1[:,2],\n",
    "                 mode='markers', marker_size=2.5, name='Sample 1', marker=dict(color='#1f77b4', opacity=0.6) ),\n",
    "    row=1, col=1\n",
    ")\n",
    "\n",
    "model1 = LinearRegression()\n",
    "model1.fit(sample1[:,[0,1]], sample1[:,[2]])\n",
    "x_ols1 = np.linspace(sample1[:,[0,1]].min(), sample1[:,[0,1]].max(), 100)\n",
    "y_ols1 = model1.predict(np.array([x_ols1,x_ols1]).T)\n",
    "fig.add_trace(\n",
    "    go.Scatter3d(x=x_ols1, y=x_ols1, z=y_ols1[:,0],\n",
    "                 mode='lines', line_width=4, name='Fit 1', marker=dict(color='#ff7f03')),\n",
    "    row=1, col=1\n",
    ")\n",
    "\n",
    "\n",
    "\n",
    "fig.add_trace(\n",
    "    go.Scatter3d(x=sample2[:,0], y=sample2[:,1], z=sample2[:,2],\n",
    "                 mode='markers', marker_size=2.5, name='Sample 2', marker=dict(color='#1f77b4', opacity=0.6)),\n",
    "    row=1, col=2\n",
    ")\n",
    "\n",
    "model1 = LinearRegression()\n",
    "model1.fit(sample2[:,[0,1]], sample2[:,[2]])\n",
    "x_ols2 = np.linspace(sample1[:,[0,1]].min(), sample1[:,[0,1]].max(), 100)\n",
    "y_ols2 = model1.predict(np.array([x_ols2,x_ols2]).T)\n",
    "fig.add_trace(\n",
    "    go.Scatter3d(x=x_ols2, y=x_ols2, z=y_ols2[:,0],\n",
    "                 mode='lines', line_width=4, name='Fit 1', marker=dict(color='#ff7f03')),\n",
    "    row=1, col=2\n",
    ")\n",
    "\n",
    "\n",
    "# fig.update_xaxes(title_text=\"Sample 1\", row=1, col=1)\n",
    "# fig.update_xaxes(title_text=\"Sample 2\", row=1, col=1)\n",
    "fig.update_layout(title_text=\"3D-Plots\")\n",
    "fig.update_layout(height=500, width=1000)\n",
    "\n",
    "camera = dict(\n",
    "    eye=dict(x=0, y=2., z=0.)\n",
    ")\n",
    "\n",
    "fig.update_layout(scene_camera=camera,\n",
    "                  scene2_camera=camera,\n",
    "                 legend=dict(orientation='h'),\n",
    "                 )\n",
    "fig.show()"
   ]
  },
  {
   "cell_type": "code",
   "execution_count": null,
   "metadata": {},
   "outputs": [],
   "source": [
    "# if you want to save the interactive figure in html\n",
    "import os\n",
    "os.chdir('..')\n",
    "fig.write_html('images/visualize_two_samples.html')"
   ]
  },
  {
   "cell_type": "code",
   "execution_count": null,
   "metadata": {},
   "outputs": [],
   "source": []
  }
 ],
 "metadata": {
  "kernelspec": {
   "display_name": "Python 3",
   "language": "python",
   "name": "python3"
  },
  "language_info": {
   "codemirror_mode": {
    "name": "ipython",
    "version": 3
   },
   "file_extension": ".py",
   "mimetype": "text/x-python",
   "name": "python",
   "nbconvert_exporter": "python",
   "pygments_lexer": "ipython3",
   "version": "3.8.5"
  }
 },
 "nbformat": 4,
 "nbformat_minor": 4
}
