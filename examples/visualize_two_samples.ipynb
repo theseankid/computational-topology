{
 "cells": [
  {
   "cell_type": "code",
   "execution_count": null,
   "metadata": {},
   "outputs": [],
   "source": [
    "import numpy as np\n",
    "import pandas as pd\n",
    "import matplotlib.pyplot as plt\n",
    "\n",
    "import tadasets\n",
    "\n",
    "from sklearn.linear_model import LinearRegression\n"
   ]
  },
  {
   "cell_type": "code",
   "execution_count": null,
   "metadata": {},
   "outputs": [],
   "source": [
    "data = np.random.randn(300, 3)\n",
    "sigma = np.array([[2,0,0], [0,2,0], [0,0,1]])\n",
    "R = [[np.cos(np.pi/4), 0, -np.sin(np.pi/4)], [0,1,0], [np.sin(np.pi/4), 0, np.cos(np.pi/4)]]"
   ]
  },
  {
   "cell_type": "code",
   "execution_count": null,
   "metadata": {},
   "outputs": [],
   "source": [
    "sample1 = data@sigma@R"
   ]
  },
  {
   "cell_type": "code",
   "execution_count": null,
   "metadata": {
    "scrolled": true
   },
   "outputs": [],
   "source": [
    "sample2 = tadasets.torus(n=300, c = 4, noise = 0.3)@R"
   ]
  },
  {
   "cell_type": "markdown",
   "metadata": {},
   "source": [
    "### create OLS best fit line for two samples"
   ]
  },
  {
   "cell_type": "code",
   "execution_count": null,
   "metadata": {
    "scrolled": false
   },
   "outputs": [],
   "source": [
    "# sample 1\n",
    "model1 = LinearRegression()\n",
    "model1.fit(sample1[:,[0,1]], sample1[:,[2]])\n",
    "x_ols1 = np.linspace(sample1[:,[0,1]].min(), sample1[:,[0,1]].max(), 100)\n",
    "y_ols1 = model1.predict(np.array([x_ols1,x_ols1]).T)\n",
    "\n",
    "# sample 2\n",
    "model2 = LinearRegression()\n",
    "model2.fit(sample2[:,[0,1]], sample2[:,[2]])\n",
    "x_ols2 = np.linspace(sample1[:,[0,1]].min(), sample1[:,[0,1]].max(), 100)\n",
    "y_ols2 = model1.predict(np.array([x_ols2,x_ols2]).T)\n"
   ]
  },
  {
   "cell_type": "markdown",
   "metadata": {},
   "source": [
    "### Plot the two samples at different angles in $\\mathbb{R}^3$"
   ]
  },
  {
   "cell_type": "code",
   "execution_count": null,
   "metadata": {},
   "outputs": [],
   "source": [
    "fig = plt.figure(figsize=(15,15))\n",
    "\n",
    "#===============\n",
    "# First subplot\n",
    "# Sample 1: x,z view\n",
    "#===============\n",
    "ax = fig.add_subplot(2, 2, 1, projection='3d')\n",
    "ax.scatter3D(xs=sample1[:,0], ys=sample1[:,1], zs=sample1[:,2])\n",
    "ax.plot3D(xs=x_ols1, ys=x_ols1, zs=y_ols1[:,0], c = 'orange')\n",
    "ax.view_init(0, 90)\n",
    "ax.set_xlabel('$X$')\n",
    "ax.set_ylabel('$Y$')\n",
    "ax.set_zlabel('$Z$')\n",
    "ax.set_title(\"Sample 1: $x, z$ view\")\n",
    "\n",
    "#===============\n",
    "# Second subplot\n",
    "# Sample 2: x,z view\n",
    "#===============\n",
    "# set up the axes for the second plot\n",
    "ax = fig.add_subplot(2, 2, 2, projection='3d')\n",
    "ax.scatter3D(xs=sample2[:,0], ys=sample2[:,1], zs=sample2[:,2])\n",
    "ax.plot3D(xs=x_ols2, ys=x_ols2, zs=y_ols2[:,0], c = 'orange')\n",
    "ax.view_init(0, 90)\n",
    "ax.set_xlabel('$X$')\n",
    "ax.set_ylabel('$Y$')\n",
    "ax.set_zlabel('$Z$')\n",
    "ax.set_title(\"Sample 2: $x, z$ view\")\n",
    "\n",
    "\n",
    "#===============\n",
    "# Third subplot\n",
    "# Sample 1: rotated\n",
    "#===============\n",
    "# set up the axes for the third plot\n",
    "ax = fig.add_subplot(2, 2, 3, projection='3d')\n",
    "ax.scatter3D(xs=sample1[:,0], ys=sample1[:,1], zs=sample1[:,2])\n",
    "ax.plot3D(xs=x_ols1, ys=x_ols1, zs=y_ols1[:,0], c = 'orange')\n",
    "ax.view_init(-140, 60)\n",
    "ax.set_xlabel('$X$')\n",
    "ax.set_ylabel('$Y$')\n",
    "ax.set_zlabel('$Z$')\n",
    "ax.set_title(\"Sample 1: rotated\")\n",
    "\n",
    "\n",
    "\n",
    "#===============\n",
    "# Fourth subplot\n",
    "# Sample 2: Rotated\n",
    "#===============\n",
    "# set up the axes for the fourth plot\n",
    "ax = fig.add_subplot(2, 2, 4, projection='3d')\n",
    "ax.scatter3D(xs=sample2[:,0], ys=sample2[:,1], zs=sample2[:,2])\n",
    "ax.plot3D(xs=x_ols2, ys=x_ols2, zs=y_ols2[:,0], c = 'orange')\n",
    "ax.view_init(-140, 60)\n",
    "ax.set_xlabel('$X$')\n",
    "ax.set_ylabel('$Y$')\n",
    "ax.set_zlabel('$Z$')\n",
    "ax.set_title(\"Sample 2: rotated\")\n",
    "\n",
    "plt.show()"
   ]
  },
  {
   "cell_type": "code",
   "execution_count": null,
   "metadata": {},
   "outputs": [],
   "source": [
    "import os\n",
    "os.chdir('..')\n",
    "fig.savefig('images/visualize_two_samples.png')"
   ]
  },
  {
   "cell_type": "code",
   "execution_count": null,
   "metadata": {},
   "outputs": [],
   "source": []
  }
 ],
 "metadata": {
  "kernelspec": {
   "display_name": "Python 3",
   "language": "python",
   "name": "python3"
  },
  "language_info": {
   "codemirror_mode": {
    "name": "ipython",
    "version": 3
   },
   "file_extension": ".py",
   "mimetype": "text/x-python",
   "name": "python",
   "nbconvert_exporter": "python",
   "pygments_lexer": "ipython3",
   "version": "3.8.5"
  }
 },
 "nbformat": 4,
 "nbformat_minor": 4
}
