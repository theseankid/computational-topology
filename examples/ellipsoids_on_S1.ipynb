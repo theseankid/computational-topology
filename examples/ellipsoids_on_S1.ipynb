{
 "cells": [
  {
   "cell_type": "code",
   "execution_count": null,
   "metadata": {},
   "outputs": [],
   "source": [
    "import numpy as np\n",
    "import sympy as sym\n",
    "\n",
    "from sklearn.neighbors import NearestNeighbors\n",
    "from sklearn.linear_model import LinearRegression\n",
    "\n",
    "import matplotlib.pyplot as plt\n",
    "from matplotlib.patches import Ellipse, Circle\n",
    "\n",
    "import tadasets\n"
   ]
  },
  {
   "cell_type": "code",
   "execution_count": null,
   "metadata": {},
   "outputs": [],
   "source": [
    "import os\n",
    "os.chdir('..')\n",
    "from distances import ellipsoid_distances"
   ]
  },
  {
   "cell_type": "markdown",
   "metadata": {},
   "source": [
    "Create function $f = x^2 + y^2 - 1$ and variables"
   ]
  },
  {
   "cell_type": "code",
   "execution_count": null,
   "metadata": {},
   "outputs": [],
   "source": [
    "x = sym.Symbol('x')\n",
    "y = sym.Symbol('y')\n",
    "f = x**2 + y**2 - 1\n",
    "variables = [x,y]"
   ]
  },
  {
   "cell_type": "markdown",
   "metadata": {},
   "source": [
    "## Sample a Circle $S^1$ with no noise"
   ]
  },
  {
   "cell_type": "code",
   "execution_count": null,
   "metadata": {},
   "outputs": [],
   "source": [
    "seed=10\n",
    "np.random.seed(seed)\n",
    "data=tadasets.dsphere(n=50, d=1)\n",
    "sigma = 0.2\n",
    "\n",
    "Vs = ellipsoid_distances.jacobian_rotation_matrices(data,f,variables)\n",
    "SVDs, _ = ellipsoid_distances.svd_rotation_matrices(data, nnbrs=1,fixed = True)\n",
    "\n",
    "# create the figure\n",
    "fig2,ax2=plt.subplots(nrows=3, ncols=4, figsize=(15,12))\n",
    "\n",
    "# eps for 0.1, 0.2, 0.3, 0.4\n",
    "epsilons = np.arange(1,5)/10\n",
    "\n",
    "\n",
    "# Standard Epsilon Balls\n",
    "for idx, eps in enumerate(epsilons):\n",
    "    ax2[0,idx].scatter(data[:,0], data[:,1], s=3)\n",
    "    for row in data:\n",
    "        e = Circle(xy=row, radius=eps, alpha = 0.25)\n",
    "        ax2[0,idx].add_patch(e)\n",
    "    ax2[0,idx].title.set_text('Standard $\\epsilon = {}$'.format(eps))\n",
    "\n",
    "\n",
    "# Jacobian Ellipsoids\n",
    "for idx, eps in enumerate(epsilons):\n",
    "    ax2[1,idx].scatter(data[:,0], data[:,1], s=3)\n",
    "    for row, V in zip(data, Vs):\n",
    "        e = Ellipse(xy=row, width=2*eps, height=2*sigma*eps,\n",
    "                    angle=np.degrees(np.math.acos(V[1,0])), alpha = 0.25 )\n",
    "        ax2[1,idx].add_patch(e)\n",
    "    ax2[1,idx].title.set_text('Jacobian Ellipsoids: $\\epsilon = {}$'.format(eps))\n",
    "    \n",
    "    \n",
    "# SVD Ellipsoids\n",
    "for idx, eps in enumerate(epsilons):\n",
    "    ax2[2,idx].scatter(data[:,0], data[:,1], s=3)\n",
    "    for row, SVD in zip(data, SVDs):\n",
    "        e = Ellipse(xy=row, width=2*sigma*eps, height=2*eps,\n",
    "                    angle=np.degrees(np.math.acos(SVD[1,1])), alpha = 0.25 )\n",
    "        ax2[2,idx].add_patch(e)\n",
    "    ax2[2,idx].title.set_text('SVD Ellipsoids: $\\epsilon = {}$'.format(eps))\n",
    "    \n",
    "fig2.savefig('images/ellipsoids_on_S1.png')"
   ]
  },
  {
   "cell_type": "code",
   "execution_count": null,
   "metadata": {},
   "outputs": [],
   "source": []
  },
  {
   "cell_type": "markdown",
   "metadata": {},
   "source": [
    "## Sample a Circle $S^1$ with noise $= 0.1$"
   ]
  },
  {
   "cell_type": "code",
   "execution_count": null,
   "metadata": {},
   "outputs": [],
   "source": [
    "seed=10\n",
    "np.random.seed(seed)\n",
    "data=tadasets.dsphere(n=50, d=1, noise = 0.1)\n",
    "sigma = 0.2\n",
    "\n",
    "Vs = ellipsoid_distances.jacobian_rotation_matrices(data,f,variables)\n",
    "SVDs, _ = ellipsoid_distances.svd_rotation_matrices(data, nnbrs=1,fixed = True)\n",
    "\n",
    "# create the figure\n",
    "fig2,ax2=plt.subplots(nrows=3, ncols=4, figsize=(15,12))\n",
    "\n",
    "# eps for 0.1, 0.2, 0.3, 0.4\n",
    "epsilons = np.arange(1,5)/10\n",
    "\n",
    "\n",
    "# Standard Epsilon Balls\n",
    "for idx, eps in enumerate(epsilons):\n",
    "    ax2[0,idx].scatter(data[:,0], data[:,1], s=3)\n",
    "    for row in data:\n",
    "        e = Circle(xy=row, radius=eps, alpha = 0.25)\n",
    "        ax2[0,idx].add_patch(e)\n",
    "    ax2[0,idx].title.set_text('Standard $\\epsilon = {}$'.format(eps))\n",
    "\n",
    "\n",
    "# Jacobian Ellipsoids\n",
    "for idx, eps in enumerate(epsilons):\n",
    "    ax2[1,idx].scatter(data[:,0], data[:,1], s=3)\n",
    "    for row, V in zip(data, Vs):\n",
    "        e = Ellipse(xy=row, width=2*eps, height=2*sigma*eps,\n",
    "                    angle=np.degrees(np.math.acos(V[1,0])), alpha = 0.25 )\n",
    "        ax2[1,idx].add_patch(e)\n",
    "    ax2[1,idx].title.set_text('Jacobian Ellipsoids: $\\epsilon = {}$'.format(eps))\n",
    "\n",
    "\n",
    "# SVD Ellipsoids\n",
    "for idx, eps in enumerate(epsilons):\n",
    "    ax2[2,idx].scatter(data[:,0], data[:,1], s=3)\n",
    "    for row, SVD in zip(data, SVDs):\n",
    "        e = Ellipse(xy=row, width=2*sigma*eps, height=2*eps,\n",
    "                    angle=np.degrees(np.math.acos(SVD[1,1])), alpha = 0.25 )\n",
    "        ax2[2,idx].add_patch(e)\n",
    "    ax2[2,idx].title.set_text('SVD Ellipsoids: $\\epsilon = {}$'.format(eps))\n",
    "    \n",
    "fig2.savefig('images/ellipsoids_on_S1_with_noise.png')"
   ]
  },
  {
   "cell_type": "markdown",
   "metadata": {},
   "source": [
    "### Vairiable width ellipsoinds on $S^1$\n",
    "\n",
    "on a circle create ellipsoids with minor axis width squal to the smallest singular value of the SVD ellipsoid"
   ]
  },
  {
   "cell_type": "code",
   "execution_count": null,
   "metadata": {},
   "outputs": [],
   "source": [
    "seed=10\n",
    "np.random.seed(seed)\n",
    "data=tadasets.dsphere(n=50, d=1, noise = 0.1)\n",
    "sigma = 0.2\n",
    "\n",
    "Vs = ellipsoid_distances.jacobian_rotation_matrices(data,f,variables)\n",
    "SVDs, Sigmas = ellipsoid_distances.svd_rotation_matrices(data, nnbrs=1,fixed = False)\n",
    "\n",
    "fig2,ax2=plt.subplots(nrows=1, ncols=3, figsize=(15,5))\n",
    "\n",
    "# eps for 0.1, 0.25, 0.5\n",
    "epsilons = np.array([0.1, 0.25, 0.5])\n",
    "\n",
    "# Standard Epsilon Balls\n",
    "for idx, eps in enumerate(epsilons):\n",
    "    ax2[idx].scatter(data[:,0], data[:,1], s=3)\n",
    "    for row, V, sigma in zip(data, SVDs, Sigmas):\n",
    "        e = Ellipse(xy=row, width=2*eps, height=2*sigma[-1]*eps, angle=np.degrees(np.math.acos(V[1,0])),\n",
    "            alpha = 0.25 )\n",
    "        ax2[idx].add_patch(e)\n",
    "    ax2[idx].title.set_text('$\\epsilon = {}$'.format(eps))\n",
    "    \n",
    "fig2.savefig('images/ellipsoids_on_S1_variable_width.png')"
   ]
  },
  {
   "cell_type": "code",
   "execution_count": null,
   "metadata": {},
   "outputs": [],
   "source": []
  }
 ],
 "metadata": {
  "kernelspec": {
   "display_name": "Python 3",
   "language": "python",
   "name": "python3"
  },
  "language_info": {
   "codemirror_mode": {
    "name": "ipython",
    "version": 3
   },
   "file_extension": ".py",
   "mimetype": "text/x-python",
   "name": "python",
   "nbconvert_exporter": "python",
   "pygments_lexer": "ipython3",
   "version": "3.8.5"
  }
 },
 "nbformat": 4,
 "nbformat_minor": 4
}
